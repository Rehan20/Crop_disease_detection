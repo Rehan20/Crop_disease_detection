{
 "cells": [
  {
   "cell_type": "code",
   "execution_count": 1,
   "id": "9134466f",
   "metadata": {},
   "outputs": [],
   "source": [
    "import gradio as gr\n",
    "from transformers import pipeline\n",
    "import matplotlib.pyplot as plt\n",
    "import numpy as np\n",
    "import os\n",
    "import PIL\n",
    "import tensorflow as tf"
   ]
  },
  {
   "cell_type": "code",
   "execution_count": 2,
   "id": "73f182ca",
   "metadata": {},
   "outputs": [],
   "source": [
    "from tensorflow import keras\n",
    "from tensorflow.keras import layers\n",
    "from tensorflow.keras.models import Sequential"
   ]
  },
  {
   "cell_type": "code",
   "execution_count": 3,
   "id": "87cc2822",
   "metadata": {},
   "outputs": [],
   "source": [
    "img_height, img_width = 224, 224\n",
    "\n",
    "base_model = tf.keras.applications.MobileNetV2(input_shape=(224,224,3), include_top=False, weights='imagenet')\n",
    "\n",
    "base_model.trainable=False\n",
    "num_classes = 4\n",
    "\n",
    "model = tf.keras.Sequential([\n",
    "  base_model,\n",
    "  tf.keras.layers.Conv2D(32, 3, activation='elu'),\n",
    "  tf.keras.layers.Dropout(0.5),  #increase dropout\n",
    "  tf.keras.layers.GlobalAveragePooling2D(),\n",
    "  tf.keras.layers.Dense(4, activation='softmax')\n",
    "]\n",
    ")\n",
    "\n"
   ]
  },
  {
   "cell_type": "code",
   "execution_count": 4,
   "id": "618ba925",
   "metadata": {},
   "outputs": [],
   "source": [
    "model.load_weights(r\"C:\\Users\\imreh\\Desktop\\Final Project\\Notebook\\mobilenetv2_model-4.h5\")"
   ]
  },
  {
   "cell_type": "code",
   "execution_count": 5,
   "id": "4e371241",
   "metadata": {},
   "outputs": [
    {
     "name": "stdout",
     "output_type": "stream",
     "text": [
      "Found 4848 files belonging to 4 classes.\n"
     ]
    }
   ],
   "source": [
    "train_ds = tf.keras.preprocessing.image_dataset_from_directory(r\"C:\\Users\\imreh\\Desktop\\Final Project\\Notebook\\training_test1\\train\"\n",
    ")"
   ]
  },
  {
   "cell_type": "code",
   "execution_count": 6,
   "id": "2ed7c582",
   "metadata": {},
   "outputs": [
    {
     "name": "stdout",
     "output_type": "stream",
     "text": [
      "['blast', 'brown_spot', 'hispa', 'normal']\n"
     ]
    }
   ],
   "source": [
    "class_names = train_ds.class_names\n",
    "print(class_names)\n"
   ]
  },
  {
   "cell_type": "code",
   "execution_count": 7,
   "id": "6e8a56af",
   "metadata": {},
   "outputs": [],
   "source": [
    "def predict_image(img):\n",
    "  img_3d = img.reshape(-3,224, 224, 3)\n",
    "  prediction = model.predict(img_3d)[0]\n",
    "  return {class_names[i]: float(prediction[i]) for i in range(4)}"
   ]
  },
  {
   "cell_type": "code",
   "execution_count": 8,
   "id": "22860bfc",
   "metadata": {},
   "outputs": [],
   "source": [
    "import os\n",
    "\n",
    "image = gr.components.Image(shape=(224, 224))\n",
    "label = gr.components.Label(num_top_classes=4)"
   ]
  },
  {
   "cell_type": "code",
   "execution_count": 9,
   "id": "00c7b311",
   "metadata": {},
   "outputs": [],
   "source": [
    "iface = gr.Interface(\n",
    "    fn = predict_image,\n",
    "    inputs = image,\n",
    "    outputs = label,\n",
    "    flagging_options=[\"Screenshot\", \"Gif\"],\n",
    "    examples=[\n",
    "        []\n",
    "    ],\n",
    "    title = 'Paddy Leaf Disease Detection'\n",
    "    )"
   ]
  },
  {
   "cell_type": "code",
   "execution_count": 10,
   "id": "c5f5e34e",
   "metadata": {},
   "outputs": [
    {
     "name": "stdout",
     "output_type": "stream",
     "text": [
      "Running on local URL:  http://127.0.0.1:7860\n",
      "Running on public URL: https://99adb1aa88a47e7dfc.gradio.live\n",
      "\n",
      "This share link expires in 72 hours. For free permanent hosting and GPU upgrades (NEW!), check out Spaces: https://huggingface.co/spaces\n"
     ]
    },
    {
     "data": {
      "text/html": [
       "<div><iframe src=\"https://99adb1aa88a47e7dfc.gradio.live\" width=\"100%\" height=\"500\" allow=\"autoplay; camera; microphone; clipboard-read; clipboard-write;\" frameborder=\"0\" allowfullscreen></iframe></div>"
      ],
      "text/plain": [
       "<IPython.core.display.HTML object>"
      ]
     },
     "metadata": {},
     "output_type": "display_data"
    },
    {
     "data": {
      "text/plain": []
     },
     "execution_count": 10,
     "metadata": {},
     "output_type": "execute_result"
    }
   ],
   "source": [
    "iface.launch(share='True')"
   ]
  },
  {
   "cell_type": "code",
   "execution_count": null,
   "id": "6a968353",
   "metadata": {},
   "outputs": [],
   "source": []
  }
 ],
 "metadata": {
  "kernelspec": {
   "display_name": "Python 3 (ipykernel)",
   "language": "python",
   "name": "python3"
  },
  "language_info": {
   "codemirror_mode": {
    "name": "ipython",
    "version": 3
   },
   "file_extension": ".py",
   "mimetype": "text/x-python",
   "name": "python",
   "nbconvert_exporter": "python",
   "pygments_lexer": "ipython3",
   "version": "3.9.13"
  }
 },
 "nbformat": 4,
 "nbformat_minor": 5
}
