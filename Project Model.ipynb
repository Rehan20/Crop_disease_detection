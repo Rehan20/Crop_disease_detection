{
 "cells": [
  {
   "cell_type": "code",
   "execution_count": 1,
   "id": "b32d9b9a",
   "metadata": {
    "_cell_guid": "b1076dfc-b9ad-4769-8c92-a6c4dae69d19",
    "_uuid": "8f2839f25d086af736a60e9eeb907d3b93b6e0e5",
    "execution": {
     "iopub.execute_input": "2022-07-23T15:22:15.743591Z",
     "iopub.status.busy": "2022-07-23T15:22:15.743083Z",
     "iopub.status.idle": "2022-07-23T15:22:21.533284Z",
     "shell.execute_reply": "2022-07-23T15:22:21.532159Z"
    },
    "papermill": {
     "duration": 5.799907,
     "end_time": "2022-07-23T15:22:21.536419",
     "exception": false,
     "start_time": "2022-07-23T15:22:15.736512",
     "status": "completed"
    },
    "tags": []
   },
   "outputs": [
    {
     "name": "stdout",
     "output_type": "stream",
     "text": [
      "train images\n",
      "1738 \t blast\n",
      "965 \t brown_spot\n",
      "1594 \t hispa\n",
      "1764 \t normal\n",
      "test images\n",
      "175 \t blast\n",
      "97 \t brown_spot\n",
      "160 \t hispa\n",
      "177 \t normal\n"
     ]
    }
   ],
   "source": [
    "import warnings\n",
    "warnings.filterwarnings(\"ignore\")\n",
    "import glob\n",
    "from pathlib import Path\n",
    "\n",
    "train_path = r\"C:\\Users\\imreh\\Desktop\\Final Project\\Notebook\\training\"\n",
    "test_path  = r\"C:\\Users\\imreh\\Desktop\\Final Project\\Notebook\\training_test1\\test\"\n",
    "\n",
    "print('train images')\n",
    "for filepath in glob.glob(train_path + '/*/'):\n",
    "    files = glob.glob(filepath + '*')\n",
    "    print(f\"{len(files)} \\t {Path(filepath).name}\")\n",
    "    \n",
    "print('test images')\n",
    "for filepath in glob.glob(test_path + '/*/'):\n",
    "    files = glob.glob(filepath + '*')\n",
    "    print(f\"{len(files)} \\t {Path(filepath).name}\")"
   ]
  },
  {
   "cell_type": "code",
   "execution_count": 2,
   "id": "830e788e",
   "metadata": {
    "execution": {
     "iopub.execute_input": "2022-07-23T15:22:21.548166Z",
     "iopub.status.busy": "2022-07-23T15:22:21.547856Z",
     "iopub.status.idle": "2022-07-23T15:22:27.880263Z",
     "shell.execute_reply": "2022-07-23T15:22:27.877616Z"
    },
    "papermill": {
     "duration": 6.344234,
     "end_time": "2022-07-23T15:22:27.886249",
     "exception": false,
     "start_time": "2022-07-23T15:22:21.542015",
     "status": "completed"
    },
    "tags": []
   },
   "outputs": [
    {
     "name": "stdout",
     "output_type": "stream",
     "text": [
      "4\n"
     ]
    }
   ],
   "source": [
    "import numpy as np\n",
    "import pandas as pd\n",
    "import pickle\n",
    "import cv2\n",
    "import os\n",
    "\n",
    "from os import listdir\n",
    "from sklearn.preprocessing import LabelBinarizer\n",
    "from tensorflow.keras.models import Sequential\n",
    "\n",
    "from tensorflow.keras.layers import BatchNormalization\n",
    "from keras.layers.convolutional import Conv2D\n",
    "from keras.layers.convolutional import MaxPooling2D\n",
    "from keras.layers.core import Activation, Flatten, Dropout, Dense\n",
    "from keras import backend as K\n",
    "from keras.preprocessing.image import ImageDataGenerator\n",
    "from tensorflow.keras.optimizers import Adam\n",
    "from tensorflow.keras.utils import plot_model\n",
    "\n",
    "from keras.preprocessing import image\n",
    "from tensorflow.keras.utils import img_to_array\n",
    "from sklearn.preprocessing import MultiLabelBinarizer\n",
    "from sklearn.model_selection import train_test_split\n",
    "import matplotlib.pyplot as plt\n",
    "\n",
    "import keras\n",
    "keras.__version__\n",
    "from psutil import virtual_memory\n",
    "\n",
    "SEED = 123\n",
    "EPOCHS = 10\n",
    "INIT_LR = 1e-3\n",
    "BS = 32\n",
    "default_image_size = tuple((224, 224))\n",
    "image_size = 0\n",
    "width = 224\n",
    "height = 224\n",
    "depth = 3\n",
    "\n",
    "n_classes = len(glob.glob(train_path + '/*/'))\n",
    "print(n_classes)"
   ]
  },
  {
   "cell_type": "code",
   "execution_count": 3,
   "id": "e48f6ebd",
   "metadata": {
    "execution": {
     "iopub.execute_input": "2022-07-23T15:22:27.910138Z",
     "iopub.status.busy": "2022-07-23T15:22:27.909384Z",
     "iopub.status.idle": "2022-07-23T15:22:31.625778Z",
     "shell.execute_reply": "2022-07-23T15:22:31.624855Z"
    },
    "papermill": {
     "duration": 3.735332,
     "end_time": "2022-07-23T15:22:31.631166",
     "exception": false,
     "start_time": "2022-07-23T15:22:27.895834",
     "status": "completed"
    },
    "tags": []
   },
   "outputs": [
    {
     "name": "stdout",
     "output_type": "stream",
     "text": [
      "Model: \"model\"\n",
      "_________________________________________________________________\n",
      " Layer (type)                Output Shape              Param #   \n",
      "=================================================================\n",
      " input_1 (InputLayer)        [(None, 224, 224, 3)]     0         \n",
      "                                                                 \n",
      " conv1 (Conv2D)              (None, 112, 112, 32)      864       \n",
      "                                                                 \n",
      " conv1_bn (BatchNormalizatio  (None, 112, 112, 32)     128       \n",
      " n)                                                              \n",
      "                                                                 \n",
      " conv1_relu (ReLU)           (None, 112, 112, 32)      0         \n",
      "                                                                 \n",
      " conv_dw_1 (DepthwiseConv2D)  (None, 112, 112, 32)     288       \n",
      "                                                                 \n",
      " conv_dw_1_bn (BatchNormaliz  (None, 112, 112, 32)     128       \n",
      " ation)                                                          \n",
      "                                                                 \n",
      " conv_dw_1_relu (ReLU)       (None, 112, 112, 32)      0         \n",
      "                                                                 \n",
      " conv_pw_1 (Conv2D)          (None, 112, 112, 64)      2048      \n",
      "                                                                 \n",
      " conv_pw_1_bn (BatchNormaliz  (None, 112, 112, 64)     256       \n",
      " ation)                                                          \n",
      "                                                                 \n",
      " conv_pw_1_relu (ReLU)       (None, 112, 112, 64)      0         \n",
      "                                                                 \n",
      " conv_pad_2 (ZeroPadding2D)  (None, 113, 113, 64)      0         \n",
      "                                                                 \n",
      " conv_dw_2 (DepthwiseConv2D)  (None, 56, 56, 64)       576       \n",
      "                                                                 \n",
      " conv_dw_2_bn (BatchNormaliz  (None, 56, 56, 64)       256       \n",
      " ation)                                                          \n",
      "                                                                 \n",
      " conv_dw_2_relu (ReLU)       (None, 56, 56, 64)        0         \n",
      "                                                                 \n",
      " conv_pw_2 (Conv2D)          (None, 56, 56, 128)       8192      \n",
      "                                                                 \n",
      " conv_pw_2_bn (BatchNormaliz  (None, 56, 56, 128)      512       \n",
      " ation)                                                          \n",
      "                                                                 \n",
      " conv_pw_2_relu (ReLU)       (None, 56, 56, 128)       0         \n",
      "                                                                 \n",
      " conv_dw_3 (DepthwiseConv2D)  (None, 56, 56, 128)      1152      \n",
      "                                                                 \n",
      " conv_dw_3_bn (BatchNormaliz  (None, 56, 56, 128)      512       \n",
      " ation)                                                          \n",
      "                                                                 \n",
      " conv_dw_3_relu (ReLU)       (None, 56, 56, 128)       0         \n",
      "                                                                 \n",
      " conv_pw_3 (Conv2D)          (None, 56, 56, 128)       16384     \n",
      "                                                                 \n",
      " conv_pw_3_bn (BatchNormaliz  (None, 56, 56, 128)      512       \n",
      " ation)                                                          \n",
      "                                                                 \n",
      " conv_pw_3_relu (ReLU)       (None, 56, 56, 128)       0         \n",
      "                                                                 \n",
      " conv_pad_4 (ZeroPadding2D)  (None, 57, 57, 128)       0         \n",
      "                                                                 \n",
      " conv_dw_4 (DepthwiseConv2D)  (None, 28, 28, 128)      1152      \n",
      "                                                                 \n",
      " conv_dw_4_bn (BatchNormaliz  (None, 28, 28, 128)      512       \n",
      " ation)                                                          \n",
      "                                                                 \n",
      " conv_dw_4_relu (ReLU)       (None, 28, 28, 128)       0         \n",
      "                                                                 \n",
      " conv_pw_4 (Conv2D)          (None, 28, 28, 256)       32768     \n",
      "                                                                 \n",
      " conv_pw_4_bn (BatchNormaliz  (None, 28, 28, 256)      1024      \n",
      " ation)                                                          \n",
      "                                                                 \n",
      " conv_pw_4_relu (ReLU)       (None, 28, 28, 256)       0         \n",
      "                                                                 \n",
      " conv_dw_5 (DepthwiseConv2D)  (None, 28, 28, 256)      2304      \n",
      "                                                                 \n",
      " conv_dw_5_bn (BatchNormaliz  (None, 28, 28, 256)      1024      \n",
      " ation)                                                          \n",
      "                                                                 \n",
      " conv_dw_5_relu (ReLU)       (None, 28, 28, 256)       0         \n",
      "                                                                 \n",
      " conv_pw_5 (Conv2D)          (None, 28, 28, 256)       65536     \n",
      "                                                                 \n",
      " conv_pw_5_bn (BatchNormaliz  (None, 28, 28, 256)      1024      \n",
      " ation)                                                          \n",
      "                                                                 \n",
      " conv_pw_5_relu (ReLU)       (None, 28, 28, 256)       0         \n",
      "                                                                 \n",
      " conv_pad_6 (ZeroPadding2D)  (None, 29, 29, 256)       0         \n",
      "                                                                 \n",
      " conv_dw_6 (DepthwiseConv2D)  (None, 14, 14, 256)      2304      \n",
      "                                                                 \n",
      " conv_dw_6_bn (BatchNormaliz  (None, 14, 14, 256)      1024      \n",
      " ation)                                                          \n",
      "                                                                 \n",
      " conv_dw_6_relu (ReLU)       (None, 14, 14, 256)       0         \n",
      "                                                                 \n",
      " conv_pw_6 (Conv2D)          (None, 14, 14, 512)       131072    \n",
      "                                                                 \n",
      " conv_pw_6_bn (BatchNormaliz  (None, 14, 14, 512)      2048      \n",
      " ation)                                                          \n",
      "                                                                 \n",
      " conv_pw_6_relu (ReLU)       (None, 14, 14, 512)       0         \n",
      "                                                                 \n",
      " conv_dw_7 (DepthwiseConv2D)  (None, 14, 14, 512)      4608      \n",
      "                                                                 \n",
      " conv_dw_7_bn (BatchNormaliz  (None, 14, 14, 512)      2048      \n",
      " ation)                                                          \n",
      "                                                                 \n",
      " conv_dw_7_relu (ReLU)       (None, 14, 14, 512)       0         \n",
      "                                                                 \n",
      " conv_pw_7 (Conv2D)          (None, 14, 14, 512)       262144    \n",
      "                                                                 \n",
      " conv_pw_7_bn (BatchNormaliz  (None, 14, 14, 512)      2048      \n",
      " ation)                                                          \n",
      "                                                                 \n",
      " conv_pw_7_relu (ReLU)       (None, 14, 14, 512)       0         \n",
      "                                                                 \n",
      " conv_dw_8 (DepthwiseConv2D)  (None, 14, 14, 512)      4608      \n",
      "                                                                 \n",
      " conv_dw_8_bn (BatchNormaliz  (None, 14, 14, 512)      2048      \n",
      " ation)                                                          \n",
      "                                                                 \n",
      " conv_dw_8_relu (ReLU)       (None, 14, 14, 512)       0         \n",
      "                                                                 \n",
      " conv_pw_8 (Conv2D)          (None, 14, 14, 512)       262144    \n"
     ]
    },
    {
     "name": "stdout",
     "output_type": "stream",
     "text": [
      "                                                                 \n",
      " conv_pw_8_bn (BatchNormaliz  (None, 14, 14, 512)      2048      \n",
      " ation)                                                          \n",
      "                                                                 \n",
      " conv_pw_8_relu (ReLU)       (None, 14, 14, 512)       0         \n",
      "                                                                 \n",
      " conv_dw_9 (DepthwiseConv2D)  (None, 14, 14, 512)      4608      \n",
      "                                                                 \n",
      " conv_dw_9_bn (BatchNormaliz  (None, 14, 14, 512)      2048      \n",
      " ation)                                                          \n",
      "                                                                 \n",
      " conv_dw_9_relu (ReLU)       (None, 14, 14, 512)       0         \n",
      "                                                                 \n",
      " conv_pw_9 (Conv2D)          (None, 14, 14, 512)       262144    \n",
      "                                                                 \n",
      " conv_pw_9_bn (BatchNormaliz  (None, 14, 14, 512)      2048      \n",
      " ation)                                                          \n",
      "                                                                 \n",
      " conv_pw_9_relu (ReLU)       (None, 14, 14, 512)       0         \n",
      "                                                                 \n",
      " conv_dw_10 (DepthwiseConv2D  (None, 14, 14, 512)      4608      \n",
      " )                                                               \n",
      "                                                                 \n",
      " conv_dw_10_bn (BatchNormali  (None, 14, 14, 512)      2048      \n",
      " zation)                                                         \n",
      "                                                                 \n",
      " conv_dw_10_relu (ReLU)      (None, 14, 14, 512)       0         \n",
      "                                                                 \n",
      " conv_pw_10 (Conv2D)         (None, 14, 14, 512)       262144    \n",
      "                                                                 \n",
      " conv_pw_10_bn (BatchNormali  (None, 14, 14, 512)      2048      \n",
      " zation)                                                         \n",
      "                                                                 \n",
      " conv_pw_10_relu (ReLU)      (None, 14, 14, 512)       0         \n",
      "                                                                 \n",
      " conv_dw_11 (DepthwiseConv2D  (None, 14, 14, 512)      4608      \n",
      " )                                                               \n",
      "                                                                 \n",
      " conv_dw_11_bn (BatchNormali  (None, 14, 14, 512)      2048      \n",
      " zation)                                                         \n",
      "                                                                 \n",
      " conv_dw_11_relu (ReLU)      (None, 14, 14, 512)       0         \n",
      "                                                                 \n",
      " conv_pw_11 (Conv2D)         (None, 14, 14, 512)       262144    \n",
      "                                                                 \n",
      " conv_pw_11_bn (BatchNormali  (None, 14, 14, 512)      2048      \n",
      " zation)                                                         \n",
      "                                                                 \n",
      " conv_pw_11_relu (ReLU)      (None, 14, 14, 512)       0         \n",
      "                                                                 \n",
      " conv_pad_12 (ZeroPadding2D)  (None, 15, 15, 512)      0         \n",
      "                                                                 \n",
      " conv_dw_12 (DepthwiseConv2D  (None, 7, 7, 512)        4608      \n",
      " )                                                               \n",
      "                                                                 \n",
      " conv_dw_12_bn (BatchNormali  (None, 7, 7, 512)        2048      \n",
      " zation)                                                         \n",
      "                                                                 \n",
      " conv_dw_12_relu (ReLU)      (None, 7, 7, 512)         0         \n",
      "                                                                 \n",
      " conv_pw_12 (Conv2D)         (None, 7, 7, 1024)        524288    \n",
      "                                                                 \n",
      " conv_pw_12_bn (BatchNormali  (None, 7, 7, 1024)       4096      \n",
      " zation)                                                         \n",
      "                                                                 \n",
      " conv_pw_12_relu (ReLU)      (None, 7, 7, 1024)        0         \n",
      "                                                                 \n",
      " conv_dw_13 (DepthwiseConv2D  (None, 7, 7, 1024)       9216      \n",
      " )                                                               \n",
      "                                                                 \n",
      " conv_dw_13_bn (BatchNormali  (None, 7, 7, 1024)       4096      \n",
      " zation)                                                         \n",
      "                                                                 \n",
      " conv_dw_13_relu (ReLU)      (None, 7, 7, 1024)        0         \n",
      "                                                                 \n",
      " conv_pw_13 (Conv2D)         (None, 7, 7, 1024)        1048576   \n",
      "                                                                 \n",
      " conv_pw_13_bn (BatchNormali  (None, 7, 7, 1024)       4096      \n",
      " zation)                                                         \n",
      "                                                                 \n",
      " conv_pw_13_relu (ReLU)      (None, 7, 7, 1024)        0         \n",
      "                                                                 \n",
      " flatten (Flatten)           (None, 50176)             0         \n",
      "                                                                 \n",
      " dense (Dense)               (None, 1024)              51381248  \n",
      "                                                                 \n",
      " dropout (Dropout)           (None, 1024)              0         \n",
      "                                                                 \n",
      " dense_1 (Dense)             (None, 4)                 4100      \n",
      "                                                                 \n",
      "=================================================================\n",
      "Total params: 54,614,212\n",
      "Trainable params: 53,512,196\n",
      "Non-trainable params: 1,102,016\n",
      "_________________________________________________________________\n"
     ]
    }
   ],
   "source": [
    "import os\n",
    "from keras.models import Model\n",
    "#from keras.optimizers import Adam\n",
    "#from keras.applications.vgg16 import VGG16, preprocess_input\n",
    "from keras.applications.mobilenet import MobileNet, preprocess_input\n",
    "#from keras.applications import MobileNet\n",
    "from keras.preprocessing.image import ImageDataGenerator\n",
    "from keras.callbacks import ModelCheckpoint, EarlyStopping\n",
    "from keras.layers import Dense, Dropout, Flatten\n",
    "from pathlib import Path\n",
    "import numpy as np\n",
    "\n",
    "def create_model_mobilenet(input_shape, n_classes, optimizer='rmsprop', fine_tune=0):\n",
    "    \"\"\"\n",
    "    Compiles a model integrated with pretrained layers\n",
    "    \n",
    "    input_shape: tuple - the shape of input images (width, height, channels)\n",
    "    n_classes: int - number of classes for the output layer\n",
    "    optimizer: string - instantiated optimizer to use for training. Defaults to 'RMSProp'\n",
    "    fine_tune: int - The number of pre-trained layers to unfreeze.\n",
    "                If set to 0, all pretrained layers will freeze during training\n",
    "    \"\"\"\n",
    "    \n",
    "    # Pretrained convolutional layers are loaded using the Imagenet weights.\n",
    "    # Include_top is set to False, in order to exclude the model's fully-connected layers.\n",
    "    conv_base = MobileNet(include_top=False,\n",
    "                     weights='imagenet', \n",
    "                     input_shape=input_shape)\n",
    "    \n",
    "    # Defines how many layers to freeze during training.\n",
    "    # Layers in the convolutional base are switched from trainable to non-trainable\n",
    "    # depending on the size of the fine-tuning parameter.\n",
    "    if fine_tune > 0:\n",
    "        for layer in conv_base.layers[:-fine_tune]:\n",
    "            layer.trainable = False\n",
    "    else:\n",
    "        for layer in conv_base.layers:\n",
    "            layer.trainable = False\n",
    "\n",
    "    # Create a new 'top' of the model (i.e. fully-connected layers).\n",
    "    # This is 'bootstrapping' a new top_model onto the pretrained layers.\n",
    "    top_model = conv_base.output\n",
    "    top_model = Flatten(name=\"flatten\")(top_model)\n",
    "    top_model = Dense(1024, activation='relu')(top_model)\n",
    "    top_model = Dropout(0.2)(top_model)\n",
    "    \n",
    "    output_layer = Dense(n_classes, activation='softmax')(top_model)\n",
    "    \n",
    "#     model.add(Dense(1024))\n",
    "#     model.add(Activation(\"relu\"))\n",
    "#     model.add(BatchNormalization())\n",
    "#     model.add(Dropout(0.2))\n",
    "#     model.add(Dense(n_classes))\n",
    "#     model.add(Activation(\"softmax\"))\n",
    "    \n",
    "    \n",
    "    # Group the convolutional base and new fully-connected layers into a Model object.\n",
    "    model = Model(inputs=conv_base.input, outputs=output_layer)\n",
    "\n",
    "    # Compiles the model for training.\n",
    "    model.compile(optimizer=optimizer, \n",
    "                  loss='categorical_crossentropy',\n",
    "                  metrics=['accuracy'])\n",
    "    \n",
    "    return model\n",
    "\n",
    "input_shape = (224, 224, 3)\n",
    "\n",
    "# Use a smaller learning rate\n",
    "optim_2 = Adam(learning_rate=0.0001)\n",
    "\n",
    "# Re-compile the model, this time leaving the last 2 layers unfrozen for Fine-Tuning\n",
    "model = create_model_mobilenet(input_shape, n_classes, optim_2, fine_tune=24)\n",
    "model.summary()"
   ]
  },
  {
   "cell_type": "code",
   "execution_count": 4,
   "id": "9cbdbcf4",
   "metadata": {
    "execution": {
     "iopub.execute_input": "2022-07-23T15:22:31.644089Z",
     "iopub.status.busy": "2022-07-23T15:22:31.643781Z",
     "iopub.status.idle": "2022-07-23T15:22:40.968531Z",
     "shell.execute_reply": "2022-07-23T15:22:40.967539Z"
    },
    "papermill": {
     "duration": 9.334809,
     "end_time": "2022-07-23T15:22:40.971855",
     "exception": false,
     "start_time": "2022-07-23T15:22:31.637046",
     "status": "completed"
    },
    "tags": []
   },
   "outputs": [
    {
     "name": "stdout",
     "output_type": "stream",
     "text": [
      "Found 4851 images belonging to 4 classes.\n",
      "Found 1210 images belonging to 4 classes.\n",
      "Found 609 images belonging to 1 classes.\n",
      "{'blast': 0, 'brown_spot': 1, 'hispa': 2, 'normal': 3}\n",
      "609\n"
     ]
    }
   ],
   "source": [
    "image_datagen = ImageDataGenerator(featurewise_center=False,\n",
    "                 samplewise_center=False,\n",
    "                 featurewise_std_normalization=False,\n",
    "                 samplewise_std_normalization=False,\n",
    "                 zca_whitening=False,\n",
    "                 rotation_range=5,\n",
    "                 shear_range=0.2,\n",
    "                 zoom_range=0.2,\n",
    "                 width_shift_range=0.05,\n",
    "                 height_shift_range=0.05,\n",
    "                 channel_shift_range=0.,\n",
    "                 fill_mode='nearest',\n",
    "                 horizontal_flip=True,\n",
    "                 vertical_flip=False,\n",
    "                 rescale=1./255,\n",
    "                                   validation_split=0.2)\n",
    "\n",
    "train_generator = image_datagen.flow_from_directory(    \n",
    "    directory = train_path,\n",
    "    subset='training',\n",
    "    target_size=(224, 224),\n",
    "    color_mode=\"rgb\",\n",
    "    batch_size=32,\n",
    "    class_mode=\"categorical\",\n",
    "    shuffle=True,\n",
    "    seed=SEED)\n",
    "\n",
    "valid_generator = image_datagen.flow_from_directory(    \n",
    "    directory=train_path,\n",
    "    subset='validation',\n",
    "    target_size=(224, 224),\n",
    "    color_mode=\"rgb\",\n",
    "    batch_size=32,\n",
    "    class_mode=\"categorical\",\n",
    "    shuffle=True,\n",
    "    seed=SEED)\n",
    "\n",
    "test_generator = ImageDataGenerator(rescale=1./255).flow_from_directory(    \n",
    "    directory=test_path,\n",
    "    target_size=(224, 224),\n",
    "    color_mode=\"rgb\",\n",
    "    batch_size=1,\n",
    "    classes=['.'],\n",
    "    class_mode=None,\n",
    "    shuffle=False,\n",
    "    seed=SEED)\n",
    "\n",
    "print(train_generator.class_indices)\n",
    "print(test_generator.samples)"
   ]
  },
  {
   "cell_type": "code",
   "execution_count": 5,
   "id": "97f06901",
   "metadata": {
    "execution": {
     "iopub.execute_input": "2022-07-23T15:22:40.986037Z",
     "iopub.status.busy": "2022-07-23T15:22:40.985189Z",
     "iopub.status.idle": "2022-07-23T15:22:52.131386Z",
     "shell.execute_reply": "2022-07-23T15:22:52.130202Z"
    },
    "papermill": {
     "duration": 11.155342,
     "end_time": "2022-07-23T15:22:52.133782",
     "exception": false,
     "start_time": "2022-07-23T15:22:40.978440",
     "status": "completed"
    },
    "tags": []
   },
   "outputs": [],
   "source": [
    "from livelossplot.inputs.keras import PlotLossesCallback\n",
    "\n",
    "plot_loss_1 = PlotLossesCallback()\n",
    "\n",
    "# ModelCheckpoint callback - save best weights\n",
    "tl_checkpoint_1 = ModelCheckpoint(filepath='mobilenet_model6.weights.best.hdf5',\n",
    "                                  save_best_only=True,\n",
    "                                  verbose=1)\n",
    "\n",
    "# EarlyStopping\n",
    "early_stop = EarlyStopping(monitor='val_loss',\n",
    "                           patience=10,\n",
    "                           restore_best_weights=True,\n",
    "                           mode='min')"
   ]
  },
  {
   "cell_type": "code",
   "execution_count": 6,
   "id": "21c2fbc3",
   "metadata": {
    "execution": {
     "iopub.execute_input": "2022-07-23T15:22:52.148475Z",
     "iopub.status.busy": "2022-07-23T15:22:52.148162Z",
     "iopub.status.idle": "2022-07-23T16:30:32.622429Z",
     "shell.execute_reply": "2022-07-23T16:30:32.621502Z"
    },
    "papermill": {
     "duration": 4060.485412,
     "end_time": "2022-07-23T16:30:32.625910",
     "exception": false,
     "start_time": "2022-07-23T15:22:52.140498",
     "status": "completed"
    },
    "tags": []
   },
   "outputs": [
    {
     "data": {
      "image/png": "[encoded data removed]",
      "text/plain": [
       "<Figure size 1200x800 with 2 Axes>"
      ]
     },
     "metadata": {},
     "output_type": "display_data"
    },
    {
     "name": "stdout",
     "output_type": "stream",
     "text": [
      "accuracy\n",
      "\ttraining         \t (min:    0.679, max:    0.974, cur:    0.974)\n",
      "\tvalidation       \t (min:    0.725, max:    0.951, cur:    0.951)\n",
      "Loss\n",
      "\ttraining         \t (min:    0.076, max:    1.250, cur:    0.076)\n",
      "\tvalidation       \t (min:    0.163, max:    0.755, cur:    0.163)\n",
      "151/151 [==============================] - 395s 3s/step - loss: 0.0764 - accuracy: 0.9736 - val_loss: 0.1633 - val_accuracy: 0.9510\n",
      "Wall time: 1h 8min 49s\n"
     ]
    }
   ],
   "source": [
    "%%time\n",
    "\n",
    "plot_loss_2 = PlotLossesCallback()\n",
    "\n",
    "STEP_SIZE_TRAIN = train_generator.n//train_generator.batch_size\n",
    "STEP_SIZE_VALID = valid_generator.n//valid_generator.batch_size\n",
    "\n",
    "# Retrain model with fine-tuning\n",
    "history = model.fit_generator(generator = train_generator,\n",
    "                                  steps_per_epoch = STEP_SIZE_TRAIN,\n",
    "                                  validation_data = valid_generator,\n",
    "                                  validation_steps = STEP_SIZE_VALID,\n",
    "                                  callbacks=[tl_checkpoint_1, early_stop, plot_loss_2],\n",
    "                                  verbose=1,epochs=EPOCHS)"
   ]
  },
  {
   "cell_type": "code",
   "execution_count": 7,
   "id": "712443e9",
   "metadata": {
    "execution": {
     "iopub.execute_input": "2022-07-23T16:30:32.642955Z",
     "iopub.status.busy": "2022-07-23T16:30:32.642624Z",
     "iopub.status.idle": "2022-07-23T16:30:33.022154Z",
     "shell.execute_reply": "2022-07-23T16:30:33.021168Z"
    },
    "papermill": {
     "duration": 0.391052,
     "end_time": "2022-07-23T16:30:33.025195",
     "exception": false,
     "start_time": "2022-07-23T16:30:32.634143",
     "status": "completed"
    },
    "tags": []
   },
   "outputs": [
    {
     "data": {
      "image/png": "[encoded data removed]",
      "text/plain": [
       "<Figure size 640x480 with 1 Axes>"
      ]
     },
     "metadata": {},
     "output_type": "display_data"
    },
    {
     "data": {
      "image/png": "[encoded data removed]",
      "text/plain": [
       "<Figure size 640x480 with 1 Axes>"
      ]
     },
     "metadata": {},
     "output_type": "display_data"
    },
    {
     "name": "stdout",
     "output_type": "stream",
     "text": [
      "Wall time: 625 ms\n"
     ]
    }
   ],
   "source": [
    "%%time\n",
    "temp = pd.DataFrame(history.history)\n",
    "temp.to_csv('mobilenetv2_model6_history.csv', index=False)\n",
    "\n",
    "acc = history.history['accuracy']\n",
    "val_acc = history.history['val_accuracy']\n",
    "loss = history.history['loss']\n",
    "val_loss = history.history['val_loss']\n",
    "epochs = range(1, len(acc) + 1)\n",
    "#Train and validation accuracy\n",
    "plt.plot(epochs, acc, 'b', label='Training accurarcy')\n",
    "plt.plot(epochs, val_acc, 'r', label='Validation accurarcy')\n",
    "plt.title('Training and Validation accurarcy')\n",
    "plt.legend()\n",
    "\n",
    "plt.figure()\n",
    "#Train and validation loss\n",
    "plt.plot(epochs, loss, 'b', label='Training loss')\n",
    "plt.plot(epochs, val_loss, 'r', label='Validation loss')\n",
    "plt.title('Training and Validation loss')\n",
    "plt.legend()\n",
    "plt.show()"
   ]
  },
  {
   "cell_type": "code",
   "execution_count": 8,
   "id": "38b083c2",
   "metadata": {
    "execution": {
     "iopub.execute_input": "2022-07-23T16:30:33.042644Z",
     "iopub.status.busy": "2022-07-23T16:30:33.042364Z",
     "iopub.status.idle": "2022-07-23T16:30:33.284528Z",
     "shell.execute_reply": "2022-07-23T16:30:33.283629Z"
    },
    "papermill": {
     "duration": 0.253023,
     "end_time": "2022-07-23T16:30:33.286804",
     "exception": false,
     "start_time": "2022-07-23T16:30:33.033781",
     "status": "completed"
    },
    "tags": []
   },
   "outputs": [
    {
     "name": "stdout",
     "output_type": "stream",
     "text": [
      "test images\n",
      "175 \t blast\n",
      "97 \t brown_spot\n",
      "160 \t hispa\n",
      "177 \t normal\n",
      "Found 609 images belonging to 4 classes.\n"
     ]
    }
   ],
   "source": [
    "print('test images')\n",
    "for filepath in glob.glob(test_path + '/*/'):\n",
    "    files = glob.glob(filepath + '*')\n",
    "    print(f\"{len(files)} \\t {Path(filepath).name}\")\n",
    "    \n",
    "test_generator = ImageDataGenerator(rescale=1./255).flow_from_directory(    \n",
    "    directory=test_path,\n",
    "    target_size=(224, 224),\n",
    "    color_mode=\"rgb\",\n",
    "    batch_size=1,\n",
    "    #classes=['.'],\n",
    "    #class_mode=\"categorical\",\n",
    "    class_mode=None,\n",
    "    shuffle=False,\n",
    "    seed=SEED)"
   ]
  },
  {
   "cell_type": "code",
   "execution_count": 9,
   "id": "d74cbbfc",
   "metadata": {
    "execution": {
     "iopub.execute_input": "2022-07-23T16:30:33.305944Z",
     "iopub.status.busy": "2022-07-23T16:30:33.304286Z",
     "iopub.status.idle": "2022-07-23T16:31:17.091681Z",
     "shell.execute_reply": "2022-07-23T16:31:17.090709Z"
    },
    "papermill": {
     "duration": 43.798989,
     "end_time": "2022-07-23T16:31:17.093933",
     "exception": false,
     "start_time": "2022-07-23T16:30:33.294944",
     "status": "completed"
    },
    "tags": []
   },
   "outputs": [
    {
     "name": "stderr",
     "output_type": "stream",
     "text": [
      "C:\\Users\\imreh\\AppData\\Local\\Temp\\ipykernel_11100\\3048495735.py:5: UserWarning: `Model.predict_generator` is deprecated and will be removed in a future version. Please use `Model.predict`, which supports generators.\n",
      "  pred = model.predict_generator(test_generator,\n"
     ]
    },
    {
     "name": "stdout",
     "output_type": "stream",
     "text": [
      "609/609 [==============================] - 53s 85ms/step\n"
     ]
    }
   ],
   "source": [
    "STEP_SIZE_TEST=test_generator.n//test_generator.batch_size\n",
    "test_generator.reset()\n",
    "\n",
    "model.load_weights('mobilenet_model6.weights.best.hdf5')\n",
    "pred = model.predict_generator(test_generator,\n",
    "                               steps=STEP_SIZE_TEST,\n",
    "                               verbose=1)\n",
    "pred_classes = np.argmax(pred, axis=1)"
   ]
  },
  {
   "cell_type": "code",
   "execution_count": 10,
   "id": "d182f01d",
   "metadata": {
    "execution": {
     "iopub.execute_input": "2022-07-23T16:31:17.200168Z",
     "iopub.status.busy": "2022-07-23T16:31:17.199300Z",
     "iopub.status.idle": "2022-07-23T16:31:17.215100Z",
     "shell.execute_reply": "2022-07-23T16:31:17.213595Z"
    },
    "papermill": {
     "duration": 0.0707,
     "end_time": "2022-07-23T16:31:17.217686",
     "exception": false,
     "start_time": "2022-07-23T16:31:17.146986",
     "status": "completed"
    },
    "tags": []
   },
   "outputs": [
    {
     "name": "stdout",
     "output_type": "stream",
     "text": [
      "mobilenet Model Accuracy : 98.85%\n",
      "              precision    recall  f1-score   support\n",
      "\n",
      "       blast    0.98857   0.98857   0.98857       175\n",
      "  brown_spot    0.97980   1.00000   0.98980        97\n",
      "       hispa    0.99359   0.96875   0.98101       160\n",
      "      normal    0.98883   1.00000   0.99438       177\n",
      "\n",
      "    accuracy                        0.98851       609\n",
      "   macro avg    0.98770   0.98933   0.98844       609\n",
      "weighted avg    0.98857   0.98851   0.98847       609\n",
      "\n"
     ]
    }
   ],
   "source": [
    "from sklearn.metrics import accuracy_score\n",
    "from sklearn.metrics import classification_report\n",
    "\n",
    "class_names = test_generator.class_indices.keys()\n",
    "true_classes = test_generator.classes\n",
    "\n",
    "acc = accuracy_score(true_classes, pred_classes)\n",
    "print(\"mobilenet Model Accuracy : {:.2f}%\".format(acc * 100))\n",
    "\n",
    "cls_report = classification_report(true_classes, pred_classes, \n",
    "                                   target_names=class_names, digits=5)\n",
    "print(cls_report)"
   ]
  },
  {
   "cell_type": "code",
   "execution_count": 11,
   "id": "bc619d89",
   "metadata": {
    "execution": {
     "iopub.execute_input": "2022-07-23T16:31:17.326490Z",
     "iopub.status.busy": "2022-07-23T16:31:17.325611Z",
     "iopub.status.idle": "2022-07-23T16:31:18.402052Z",
     "shell.execute_reply": "2022-07-23T16:31:18.401060Z"
    },
    "papermill": {
     "duration": 1.131905,
     "end_time": "2022-07-23T16:31:18.404666",
     "exception": false,
     "start_time": "2022-07-23T16:31:17.272761",
     "status": "completed"
    },
    "tags": []
   },
   "outputs": [
    {
     "data": {
      "image/png": "[encoded data removed]",
      "text/plain": [
       "<Figure size 800x800 with 1 Axes>"
      ]
     },
     "metadata": {},
     "output_type": "display_data"
    },
    {
     "name": "stdout",
     "output_type": "stream",
     "text": [
      "[[173   1   1   0]\n",
      " [  0  97   0   0]\n",
      " [  2   1 155   2]\n",
      " [  0   0   0 177]]\n"
     ]
    }
   ],
   "source": [
    "import seaborn as sns\n",
    "from sklearn.metrics import confusion_matrix\n",
    "\n",
    "# Get the names of the ten classes\n",
    "class_names = test_generator.class_indices.keys()\n",
    "\n",
    "def plot_heatmap(y_true, y_pred, class_names, ax, title):\n",
    "    cm = confusion_matrix(y_true, y_pred)\n",
    "    sns.heatmap(\n",
    "        cm, \n",
    "        annot=True, \n",
    "        square=True, \n",
    "        xticklabels=class_names, \n",
    "        yticklabels=class_names,\n",
    "        fmt='d', \n",
    "        cmap=plt.cm.Blues,\n",
    "        cbar=False,\n",
    "        ax=ax\n",
    "    )\n",
    "    #ax.set_title(title, fontsize=16)\n",
    "    ax.set_xticklabels(ax.get_xticklabels(), fontsize=12, rotation=45, ha=\"right\")\n",
    "    ax.set_yticklabels(ax.get_yticklabels(), fontsize=12)\n",
    "    ax.set_ylabel('True Label', fontsize=12)\n",
    "    ax.set_xlabel('Predicted Label', fontsize=12)\n",
    "\n",
    "fig, ax = plt.subplots(1, 1, figsize=(8, 8))\n",
    "\n",
    "plot_heatmap(true_classes, pred_classes, class_names, ax, title=\"CNN\")    \n",
    "\n",
    "#fig.suptitle(\"Confusion Matrix Model Comparison\", fontsize=12)\n",
    "#fig.tight_layout()\n",
    "#fig.subplots_adjust(top=1.25)\n",
    "plt.show()\n",
    "cm = confusion_matrix(true_classes, pred_classes)\n",
    "print(cm)"
   ]
  },
  {
   "cell_type": "code",
   "execution_count": 12,
   "id": "7ef6b12d",
   "metadata": {
    "execution": {
     "iopub.execute_input": "2022-07-23T16:31:18.511101Z",
     "iopub.status.busy": "2022-07-23T16:31:18.510677Z",
     "iopub.status.idle": "2022-07-23T16:31:59.791439Z",
     "shell.execute_reply": "2022-07-23T16:31:59.790415Z"
    },
    "papermill": {
     "duration": 41.416694,
     "end_time": "2022-07-23T16:31:59.874148",
     "exception": false,
     "start_time": "2022-07-23T16:31:18.457454",
     "status": "completed"
    },
    "tags": []
   },
   "outputs": [
    {
     "name": "stderr",
     "output_type": "stream",
     "text": [
      "C:\\Users\\imreh\\AppData\\Local\\Temp\\ipykernel_11100\\3805160915.py:1: UserWarning: `Model.evaluate_generator` is deprecated and will be removed in a future version. Please use `Model.evaluate`, which supports generators.\n",
      "  loss, acc = model.evaluate_generator(test_generator, steps=STEP_SIZE_TEST, verbose=1)\n"
     ]
    },
    {
     "name": "stdout",
     "output_type": "stream",
     "text": [
      "609/609 [==============================] - 11s 17ms/step - loss: 0.0000e+00 - accuracy: 0.0000e+00\n",
      "0.0 0.0\n"
     ]
    }
   ],
   "source": [
    "loss, acc = model.evaluate_generator(test_generator, steps=STEP_SIZE_TEST, verbose=1)\n",
    "print(acc, loss)"
   ]
  },
  {
   "cell_type": "code",
   "execution_count": 13,
   "id": "93aa3848",
   "metadata": {
    "execution": {
     "iopub.execute_input": "2022-07-23T16:32:00.033442Z",
     "iopub.status.busy": "2022-07-23T16:32:00.032591Z",
     "iopub.status.idle": "2022-07-23T16:32:00.055596Z",
     "shell.execute_reply": "2022-07-23T16:32:00.054583Z"
    },
    "papermill": {
     "duration": 0.104983,
     "end_time": "2022-07-23T16:32:00.057770",
     "exception": false,
     "start_time": "2022-07-23T16:31:59.952787",
     "status": "completed"
    },
    "tags": []
   },
   "outputs": [
    {
     "data": {
      "text/plain": [
       "normal        179\n",
       "blast         175\n",
       "hispa         156\n",
       "brown_spot     99\n",
       "dtype: int64"
      ]
     },
     "execution_count": 13,
     "metadata": {},
     "output_type": "execute_result"
    }
   ],
   "source": [
    "predicted_class_indices=np.argmax(pred,axis=1)\n",
    "labels = (train_generator.class_indices)\n",
    "\n",
    "labels = (train_generator.class_indices)\n",
    "labels = dict((v,k) for k,v in labels.items())\n",
    "predictions = [labels[k] for k in predicted_class_indices]\n",
    "\n",
    "pd.Series(predictions).value_counts()"
   ]
  },
  {
   "cell_type": "code",
   "execution_count": 28,
   "id": "2588b5ed",
   "metadata": {
    "execution": {
     "iopub.execute_input": "2022-07-23T16:32:00.217476Z",
     "iopub.status.busy": "2022-07-23T16:32:00.217174Z",
     "iopub.status.idle": "2022-07-23T16:32:00.250365Z",
     "shell.execute_reply": "2022-07-23T16:32:00.248908Z"
    },
    "papermill": {
     "duration": 0.115616,
     "end_time": "2022-07-23T16:32:00.253370",
     "exception": false,
     "start_time": "2022-07-23T16:32:00.137754",
     "status": "completed"
    },
    "tags": []
   },
   "outputs": [
    {
     "name": "stderr",
     "output_type": "stream",
     "text": [
      "C:\\Users\\imreh\\AppData\\Local\\Temp\\ipykernel_11100\\2890077379.py:5: FutureWarning: The default value of regex will change from True to False in a future version.\n",
      "  results.image_id = results.image_id.str.replace('./', '')\n"
     ]
    },
    {
     "data": {
      "text/html": [
       "<div>\n",
       "<style scoped>\n",
       "    .dataframe tbody tr th:only-of-type {\n",
       "        vertical-align: middle;\n",
       "    }\n",
       "\n",
       "    .dataframe tbody tr th {\n",
       "        vertical-align: top;\n",
       "    }\n",
       "\n",
       "    .dataframe thead th {\n",
       "        text-align: right;\n",
       "    }\n",
       "</style>\n",
       "<table border=\"1\" class=\"dataframe\">\n",
       "  <thead>\n",
       "    <tr style=\"text-align: right;\">\n",
       "      <th></th>\n",
       "      <th>image_id</th>\n",
       "      <th>label</th>\n",
       "    </tr>\n",
       "  </thead>\n",
       "  <tbody>\n",
       "    <tr>\n",
       "      <th>0</th>\n",
       "      <td>blast\\100161.jpg</td>\n",
       "      <td>blast</td>\n",
       "    </tr>\n",
       "    <tr>\n",
       "      <th>1</th>\n",
       "      <td>blast\\100217.jpg</td>\n",
       "      <td>blast</td>\n",
       "    </tr>\n",
       "    <tr>\n",
       "      <th>2</th>\n",
       "      <td>blast\\100219.jpg</td>\n",
       "      <td>blast</td>\n",
       "    </tr>\n",
       "    <tr>\n",
       "      <th>3</th>\n",
       "      <td>blast\\100282.jpg</td>\n",
       "      <td>blast</td>\n",
       "    </tr>\n",
       "    <tr>\n",
       "      <th>4</th>\n",
       "      <td>blast\\100500.jpg</td>\n",
       "      <td>blast</td>\n",
       "    </tr>\n",
       "  </tbody>\n",
       "</table>\n",
       "</div>"
      ],
      "text/plain": [
       "           image_id  label\n",
       "0  blast\\100161.jpg  blast\n",
       "1  blast\\100217.jpg  blast\n",
       "2  blast\\100219.jpg  blast\n",
       "3  blast\\100282.jpg  blast\n",
       "4  blast\\100500.jpg  blast"
      ]
     },
     "execution_count": 28,
     "metadata": {},
     "output_type": "execute_result"
    }
   ],
   "source": [
    "filenames=test_generator.filenames\n",
    "\n",
    "results=pd.DataFrame({\"image_id\":filenames,\n",
    "                      \"label\":predictions})\n",
    "results.image_id = results.image_id.str.replace('./', '')\n",
    "results.to_csv(\"submission-model6.csv\",index=False)\n",
    "results.head()"
   ]
  },
  {
   "cell_type": "code",
   "execution_count": 16,
   "id": "25815bbf",
   "metadata": {},
   "outputs": [],
   "source": [
    "model.save(r\"C:\\Users\\imreh\\Desktop\\Final Project\\Notebook\\mobilenetv2_model-6.h5\")"
   ]
  },
  {
   "cell_type": "code",
   "execution_count": 21,
   "id": "78950587",
   "metadata": {},
   "outputs": [
    {
     "data": {
      "text/html": [
       "<a href='C:\\Users\\imreh\\Desktop\\Final Project\\Notebook\\mobilenetv2_model-6.h5' target='_blank'>C:\\Users\\imreh\\Desktop\\Final Project\\Notebook\\mobilenetv2_model-6.h5</a><br>"
      ],
      "text/plain": [
       "C:\\Users\\imreh\\Desktop\\Final Project\\Notebook\\mobilenetv2_model-6.h5"
      ]
     },
     "execution_count": 21,
     "metadata": {},
     "output_type": "execute_result"
    }
   ],
   "source": [
    "from IPython.display import FileLink\n",
    "# Link the files\n",
    "FileLink(r\"C:\\Users\\imreh\\Desktop\\Final Project\\Notebook\\mobilenetv2_model-6.h5\")"
   ]
  },
  {
   "cell_type": "code",
   "execution_count": 25,
   "id": "5bda1f98",
   "metadata": {},
   "outputs": [],
   "source": [
    "import json\n",
    "# Dump the categories\n",
    "with open(\"categories(model-6).json\", \"w\") as file:\n",
    "  json.dump(train_generator.class_indices, file)"
   ]
  },
  {
   "cell_type": "code",
   "execution_count": 26,
   "id": "65bc551a",
   "metadata": {},
   "outputs": [
    {
     "data": {
      "text/html": [
       "<a href='categories(model-6).json' target='_blank'>categories(model-6).json</a><br>"
      ],
      "text/plain": [
       "C:\\Users\\imreh\\Desktop\\Final Project\\Notebook\\categories(model-6).json"
      ]
     },
     "execution_count": 26,
     "metadata": {},
     "output_type": "execute_result"
    }
   ],
   "source": [
    "# Link categories JSON\n",
    "FileLink(\"categories(model-6).json\")"
   ]
  }
 ],
 "metadata": {
  "kernelspec": {
   "display_name": "Python 3 (ipykernel)",
   "language": "python",
   "name": "python3"
  },
  "language_info": {
   "codemirror_mode": {
    "name": "ipython",
    "version": 3
   },
   "file_extension": ".py",
   "mimetype": "text/x-python",
   "name": "python",
   "nbconvert_exporter": "python",
   "pygments_lexer": "ipython3",
   "version": "3.9.13"
  },
  "papermill": {
   "default_parameters": {},
   "duration": 4196.058452,
   "end_time": "2022-07-23T16:32:03.529746",
   "environment_variables": {},
   "exception": null,
   "input_path": "__notebook__.ipynb",
   "output_path": "__notebook__.ipynb",
   "parameters": {},
   "start_time": "2022-07-23T15:22:07.471294",
   "version": "2.3.4"
  }
 },
 "nbformat": 4,
 "nbformat_minor": 5
}
